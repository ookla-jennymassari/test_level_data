{
 "cells": [
  {
   "cell_type": "code",
   "execution_count": 2,
   "metadata": {},
   "outputs": [
    {
     "data": {
      "text/plain": [
       "True"
      ]
     },
     "execution_count": 2,
     "metadata": {},
     "output_type": "execute_result"
    }
   ],
   "source": [
    "import pandas as pd\n",
    "from dotenv import load_dotenv\n",
    "import os\n",
    "\n",
    "load_dotenv()"
   ]
  },
  {
   "cell_type": "code",
   "execution_count": 3,
   "metadata": {},
   "outputs": [
    {
     "name": "stdout",
     "output_type": "stream",
     "text": [
      "       product_period_id product_period  collection_set_id   \n",
      "0                     37        2025-1H              12621  \\\n",
      "1                     37        2025-1H              12621   \n",
      "2                     37        2025-1H              12621   \n",
      "3                     37        2025-1H              12621   \n",
      "4                     37        2025-1H              12621   \n",
      "...                  ...            ...                ...   \n",
      "22014                 37        2025-1H              12621   \n",
      "22015                 37        2025-1H              12621   \n",
      "22016                 37        2025-1H              12621   \n",
      "22017                 37        2025-1H              12621   \n",
      "22018                 37        2025-1H              12621   \n",
      "\n",
      "            collection_set  test_event_id  device_event_id   \n",
      "0      Stockton-CA_2025-1H      202414351       6758976490  \\\n",
      "1      Stockton-CA_2025-1H      202414352       6758976555   \n",
      "2      Stockton-CA_2025-1H      202414353       6758976568   \n",
      "3      Stockton-CA_2025-1H      202414355       6758976596   \n",
      "4      Stockton-CA_2025-1H      202414356       6758976651   \n",
      "...                    ...            ...              ...   \n",
      "22014  Stockton-CA_2025-1H      202432641       6759454607   \n",
      "22015  Stockton-CA_2025-1H      202432642       6759454614   \n",
      "22016  Stockton-CA_2025-1H      202432643       6759454690   \n",
      "22017  Stockton-CA_2025-1H      202432644       6759454709   \n",
      "22018  Stockton-CA_2025-1H      202432645       6759454710   \n",
      "\n",
      "       collection_area_id  collection_type_id  carrier_id  carrier  ...   \n",
      "0                      20                   1           4  Verizon  ...  \\\n",
      "1                      20                   1         478     Dish  ...   \n",
      "2                      20                   1         478     Dish  ...   \n",
      "3                      20                   1           1     AT&T  ...   \n",
      "4                      20                   1           1     AT&T  ...   \n",
      "...                   ...                 ...         ...      ...  ...   \n",
      "22014                  20                   1           4  Verizon  ...   \n",
      "22015                  20                   1           4  Verizon  ...   \n",
      "22016                  20                   1           1     AT&T  ...   \n",
      "22017                  20                   1           4  Verizon  ...   \n",
      "22018                  20                   1           1     AT&T  ...   \n",
      "\n",
      "       access_success  task_success  avg_lte_rsrp  avg_lte_rssnr   \n",
      "0                 1.0           1.0    -96.000000      12.000000  \\\n",
      "1                 1.0           1.0           NaN            NaN   \n",
      "2                 1.0           1.0           NaN            NaN   \n",
      "3                 NaN           NaN    -68.666667      14.000000   \n",
      "4                 1.0           1.0    -87.600000       7.000000   \n",
      "...               ...           ...           ...            ...   \n",
      "22014             NaN           NaN           NaN            NaN   \n",
      "22015             1.0           1.0    -97.000000      -2.000000   \n",
      "22016             NaN           NaN    -99.000000       3.333333   \n",
      "22017             1.0           1.0   -115.523810      -2.714286   \n",
      "22018             1.0           1.0    -98.200000       3.600000   \n",
      "\n",
      "       avg_nr_ss_rsrp  avg_nr_ss_sinr        ts_prod_insert_time   \n",
      "0                 NaN             NaN 2025-02-05 22:31:29.036038  \\\n",
      "1          -96.400000             8.0 2025-02-05 22:31:27.645523   \n",
      "2          -97.000000             8.0 2025-02-05 22:31:27.647218   \n",
      "3                 NaN             NaN 2025-02-05 22:31:27.401706   \n",
      "4                 NaN             NaN 2025-02-05 22:31:27.400902   \n",
      "...               ...             ...                        ...   \n",
      "22014      -80.333333            29.0 2025-02-05 22:31:29.046461   \n",
      "22015             NaN             NaN 2025-02-05 22:31:28.733514   \n",
      "22016             NaN             NaN 2025-02-05 22:31:27.138510   \n",
      "22017             NaN             NaN 2025-02-05 22:31:28.733239   \n",
      "22018             NaN             NaN 2025-02-05 22:31:27.412907   \n",
      "\n",
      "             ts_prod_update_time         ts_reporting_insert_time   \n",
      "0     2025-02-05 22:31:29.036038 2025-02-27 04:30:27.451048+00:00  \\\n",
      "1     2025-02-05 22:31:27.645523 2025-02-27 04:30:27.451048+00:00   \n",
      "2     2025-02-05 22:31:27.647218 2025-02-27 04:30:27.451048+00:00   \n",
      "3     2025-02-05 22:31:27.401706 2025-02-27 04:30:27.451048+00:00   \n",
      "4     2025-02-05 22:31:27.400902 2025-02-27 04:30:27.451048+00:00   \n",
      "...                          ...                              ...   \n",
      "22014 2025-02-05 22:31:29.046461 2025-02-27 04:30:27.451048+00:00   \n",
      "22015 2025-02-05 22:31:28.733514 2025-02-27 04:30:27.451048+00:00   \n",
      "22016 2025-02-05 22:31:27.138510 2025-02-27 04:30:27.451048+00:00   \n",
      "22017 2025-02-05 22:31:28.733239 2025-02-27 04:30:27.451048+00:00   \n",
      "22018 2025-02-05 22:31:27.412907 2025-02-27 04:30:27.451048+00:00   \n",
      "\n",
      "       collection_set_status_id_tsr  \n",
      "0                                20  \n",
      "1                                20  \n",
      "2                                20  \n",
      "3                                20  \n",
      "4                                20  \n",
      "...                             ...  \n",
      "22014                            20  \n",
      "22015                            20  \n",
      "22016                            20  \n",
      "22017                            20  \n",
      "22018                            20  \n",
      "\n",
      "[22019 rows x 34 columns]\n"
     ]
    }
   ],
   "source": [
    "df_stockton_ca_1h_2025 = pd.read_sql(\"select * from auto.test_summary_reporting where collection_set_id = 12621;\",\n",
    "                                     con=os.getenv('RSR_SVC_CONN'))\n",
    "\n",
    "print(df_stockton_ca_1h_2025)"
   ]
  }
 ],
 "metadata": {
  "kernelspec": {
   "display_name": "analytics_base",
   "language": "python",
   "name": "python3"
  },
  "language_info": {
   "codemirror_mode": {
    "name": "ipython",
    "version": 3
   },
   "file_extension": ".py",
   "mimetype": "text/x-python",
   "name": "python",
   "nbconvert_exporter": "python",
   "pygments_lexer": "ipython3",
   "version": "3.11.3"
  }
 },
 "nbformat": 4,
 "nbformat_minor": 2
}
